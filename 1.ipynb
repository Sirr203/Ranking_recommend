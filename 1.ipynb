{
 "cells": [
  {
   "cell_type": "code",
   "execution_count": 1,
   "metadata": {},
   "outputs": [],
   "source": [
    "import pandas as pd"
   ]
  },
  {
   "cell_type": "code",
   "execution_count": 41,
   "metadata": {},
   "outputs": [],
   "source": [
    "# Cấu hình Pandas để hiển thị rộng hơn\n",
    "pd.set_option('display.width', 1000)  # Tăng chiều rộng hiển thị (thử các giá trị lớn hơn nếu cần)\n",
    "pd.set_option('display.max_columns', None)  # Hiển thị tất cả các cột\n",
    "pd.set_option('display.expand_frame_repr', False) # Không xuống dòng DataFrame\n",
    "\n",
    "def recommend_food(excel_file, calories_prompt_per100=None, ingredient_prompt=None, user_type_prompt=None, taste_prompt=None, negative_prompt=None):\n",
    "    \"\"\"\n",
    "    Đề xuất món ăn từ file Excel dựa trên input của người dùng.\n",
    "\n",
    "    Args:\n",
    "        excel_file (str): Đường dẫn đến file Excel chứa dữ liệu món ăn.\n",
    "        ingredient_prompt (str, optional): Prompt về nguyên liệu mong muốn (ví dụ: \"beef, chicken\"). Defaults to None.\n",
    "        user_type_prompt (str, optional): Prompt về loại người dùng (ví dụ: \"athlete, normal\"). Defaults to None.\n",
    "        taste_prompt (str, optional): Prompt về hương vị mong muốn (ví dụ: \"sweet, smoky\"). Defaults to None.\n",
    "        negative_prompt (dict, optional): Dictionary chứa negative prompts theo loại (ví dụ: {'Ingredient': 'pork', 'Taste': 'sour'}). Defaults to None.\n",
    "\n",
    "    Returns:\n",
    "        pandas.DataFrame: DataFrame chứa các món ăn được đề xuất, đã sắp xếp theo điểm ranking.\n",
    "    \"\"\"\n",
    "\n",
    "    # Đọc tất cả các sheet trong file Excel\n",
    "    excel_data = pd.read_excel(excel_file, sheet_name=None)\n",
    "\n",
    "    # Kết hợp dữ liệu từ tất cả các sheet thành một DataFrame duy nhất\n",
    "    df = pd.concat(excel_data.values(), ignore_index=True)\n",
    "\n",
    "    # Khởi tạo cột 'Ranking Score' với giá trị 0\n",
    "    df['Ranking Score'] = 0\n",
    "    \n",
    "    # Lọc theo Calories/Serving dựa trên chỉ số đầu\n",
    "    if calories_prompt_per100 is not None:\n",
    "        calories_first_digit_prompt = str(int(calories_prompt_per100)).split('.')[0][0] # Lấy chỉ số đầu tiên của calories prompt\n",
    "        df['Calories/Serving_str_first_digit'] = df['Calories/Serving'].astype(str).str[0] # Chuyển cột Calories/Serving sang string và lấy chỉ số đầu\n",
    "        df = df[df['Calories/Serving_str_first_digit'] == calories_first_digit_prompt] # Lọc các hàng có chỉ số đầu Calories/Serving trùng với prompt\n",
    "        df = df.drop(columns=['Calories/Serving_str_first_digit']) # Xóa cột phụ trợ\n",
    "\n",
    "    # Xử lý Positive Prompts\n",
    "    if ingredient_prompt:\n",
    "        ingredients = [ing.strip().lower() for ing in ingredient_prompt.split(',')]\n",
    "        for ingredient in ingredients:\n",
    "            df.loc[df['Ingredients'].str.lower().str.contains(ingredient, na=False), 'Ranking Score'] += 1\n",
    "    if user_type_prompt:\n",
    "        user_types = [ut.strip().lower() for ut in user_type_prompt.split(',')]\n",
    "        for user_type in user_types:\n",
    "            df.loc[df['User type'].str.lower().str.contains(user_type, na=False), 'Ranking Score'] += 1\n",
    "    if taste_prompt:\n",
    "        tastes = [t.strip().lower() for t in taste_prompt.split(',')]\n",
    "        for taste in tastes:\n",
    "            df.loc[df['Taste'].str.lower().str.contains(taste, na=False), 'Ranking Score'] += 1\n",
    "\n",
    "    # Xử lý Negative Prompts\n",
    "    if negative_prompt:\n",
    "        if 'Ingredient' in negative_prompt and negative_prompt['Ingredient']:\n",
    "            neg_ingredients = [ing.strip().lower() for ing in negative_prompt['Ingredient'].split(',')]\n",
    "            for neg_ingredient in neg_ingredients:\n",
    "                df = df[~df['Ingredients'].str.lower().str.contains(neg_ingredient, na=False)] # Loại bỏ hàng chứa negative ingredient\n",
    "        if 'User Type' in negative_prompt and negative_prompt['User Type']:\n",
    "            neg_user_types = [ut.strip().lower() for ut in negative_prompt['User Type'].split(',')]\n",
    "            for neg_user_type in neg_user_types:\n",
    "                df = df[~df['User type'].str.lower().str.contains(neg_user_type, na=False)] # Loại bỏ hàng chứa negative user type\n",
    "        if 'Taste' in negative_prompt and negative_prompt['Taste']:\n",
    "            neg_tastes = [t.strip().lower() for t in negative_prompt['Taste'].split(',')]\n",
    "            for neg_taste in neg_tastes:\n",
    "                df = df[~df['Taste'].str.lower().str.contains(neg_taste, na=False)] # Loại bỏ hàng chứa negative taste\n",
    "\n",
    "    # Sắp xếp theo Ranking Score giảm dần\n",
    "    ranked_df = df.sort_values(by='Ranking Score', ascending=False).reset_index(drop=True)\n",
    "    \n",
    "    columns_to_drop = ['No'] + ['Serving'] + ['Calories']\n",
    "    ranked_df = ranked_df.drop(columns=columns_to_drop, errors='ignore')\n",
    "\n",
    "    return ranked_df"
   ]
  },
  {
   "cell_type": "code",
   "execution_count": 46,
   "metadata": {},
   "outputs": [],
   "source": [
    "excel_file_path = 'food.xlsx'\n",
    "\n",
    "# Input của người dùng\n",
    "calories_prompt_per100 = 4.5\n",
    "user_ingredient_prompt = 'beef, bacon'\n",
    "user_user_type_prompt = 'athlete'\n",
    "user_taste_prompt = 'rich, smoky'\n",
    "user_negative_prompt = {'Taste': 'tender'} "
   ]
  },
  {
   "cell_type": "code",
   "execution_count": 48,
   "metadata": {},
   "outputs": [
    {
     "name": "stdout",
     "output_type": "stream",
     "text": [
      "                     Food             Serving.1 Calories.1  Calories/Serving                 Ingredients              User type                       Taste  Ranking Score\n",
      "0     Baconator (Wendy's)       1 piece (227 g)   1010 cal              4.45         bacon, beef, cheese          gain, athlete  rich, salty, savory, smoky              5\n",
      "1       Jerky, Beef Jerky        1 piece (20 g)     91 cal              4.57                        beef          gain, athlete        salty, savory, smoky              3\n",
      "2         Shredded Cheese       1 portion (5 g)     25 cal              4.96                      cheese        athlete, normal         rich, salty, savory              2\n",
      "3         Manchego Cheese        1 piece (28 g)    120 cal              4.29  sheep's milk, rennet, salt  gain, athlete, normal         rich, salty, savory              2\n",
      "4          Gruyere Cheese        1 slice (28 g)    116 cal              4.13              gruyere cheese        athlete, normal  nutty, rich, savory, tangy              2\n",
      "..                    ...                   ...        ...               ...                         ...                    ...                         ...            ...\n",
      "102            Corn Chips      1 portion (30 g)    144 cal              4.80                        corn                 normal               crispy, salty              0\n",
      "103  Chocolate Rice Cakes        1 piece (15 g)     60 cal              4.00       chocolate, rice cakes         losing, normal       bitter, crispy, sweet              0\n",
      "104                Cloves  1 tablespoon (4.5 g)     19 cal              4.33                      cloves                 normal        bitter, spicy, sweet              0\n",
      "105           Baked Chips    1 portion (31.8 g)    149 cal              4.69                    potatoes                 normal               crispy, salty              0\n",
      "106           Sweet Onion     1 portion (148 g)    660 cal              4.46                 sweet onion                 normal        juicy, savory, sweet              0\n",
      "\n",
      "[107 rows x 8 columns]\n"
     ]
    }
   ],
   "source": [
    "# Gọi hàm đề xuất\n",
    "recommended_foods = recommend_food(\n",
    "    calories_prompt_per100=calories_prompt_per100,\n",
    "    excel_file=excel_file_path,\n",
    "    ingredient_prompt=user_ingredient_prompt,\n",
    "    user_type_prompt=user_user_type_prompt,\n",
    "    taste_prompt=user_taste_prompt,\n",
    "    negative_prompt=user_negative_prompt\n",
    ")\n",
    "\n",
    "# In ra kết quả\n",
    "print(recommended_foods)"
   ]
  }
 ],
 "metadata": {
  "kernelspec": {
   "display_name": "Python 3",
   "language": "python",
   "name": "python3"
  },
  "language_info": {
   "codemirror_mode": {
    "name": "ipython",
    "version": 3
   },
   "file_extension": ".py",
   "mimetype": "text/x-python",
   "name": "python",
   "nbconvert_exporter": "python",
   "pygments_lexer": "ipython3",
   "version": "3.12.3"
  }
 },
 "nbformat": 4,
 "nbformat_minor": 2
}
